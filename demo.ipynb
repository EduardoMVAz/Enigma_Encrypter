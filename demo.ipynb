{
 "cells": [
  {
   "attachments": {},
   "cell_type": "markdown",
   "metadata": {},
   "source": [
    "### Utilizing the Enigma Library - Utilizando a Biblioteca Enigma\n",
    "\n",
    "* #### Encrypting a message, then decrypting - Encriptando uma mensagem, e então decriptando:"
   ]
  },
  {
   "cell_type": "code",
   "execution_count": 1,
   "metadata": {},
   "outputs": [
    {
     "name": "stdout",
     "output_type": "stream",
     "text": [
      "zwsu xjgasuoydxenvuvehuj agapxltuxpucxgnu tbuldkgynf\n",
      "the enigma library was developed by joao and eduardo\n"
     ]
    }
   ],
   "source": [
    "from encrypter.enigma import Enigma\n",
    "\n",
    "e = Enigma()\n",
    "\n",
    "message = \"The enigma library was developed by Joao and Eduardo\"\n",
    "encrypted_message = e.enigma(message)\n",
    "print(encrypted_message)\n",
    "\n",
    "decrypted_message = e.de_enigma(encrypted_message)\n",
    "print(decrypted_message)"
   ]
  },
  {
   "attachments": {},
   "cell_type": "markdown",
   "metadata": {},
   "source": [
    "* #### Utilizing seeds to encrypt a message, then decrypt it with another instance of Enigma - Utilizando seeds para encriptar uma mensagem, e então decriptá-la com outra instância de Enigma:"
   ]
  },
  {
   "cell_type": "code",
   "execution_count": 4,
   "metadata": {},
   "outputs": [
    {
     "name": "stdout",
     "output_type": "stream",
     "text": [
      "ffvmoxlrusvgruxxccx icrtrjvhmwqims gdmo dcteiuvppxvhmqyymbatbawmn zojcw ieqhsu\n",
      "seeds can be used to recover your mensage in another users computer or program\n"
     ]
    }
   ],
   "source": [
    "e = Enigma(22)\n",
    "\n",
    "message = \"Seeds can be used to recover your mensage in another users computer or program\"\n",
    "encrypted_message = e.enigma(message)\n",
    "print(encrypted_message)\n",
    "\n",
    "e2 = Enigma(22)\n",
    "decrypted_message = e2.de_enigma(encrypted_message)\n",
    "print(decrypted_message)"
   ]
  },
  {
   "attachments": {},
   "cell_type": "markdown",
   "metadata": {},
   "source": [
    "* #### Showing differences between seeds - Mostrando diferenças entre seeds:"
   ]
  },
  {
   "cell_type": "code",
   "execution_count": 8,
   "metadata": {},
   "outputs": [
    {
     "name": "stdout",
     "output_type": "stream",
     "text": [
      "Different seeds give you different messages\n",
      "glguqgigosgguzxfjkgsizarbukunouyuiajumxij s\n",
      "zkfoglhjgbfrxidlqmgjsyteyimulrwgarsqk fnrqd\n",
      "different seeds give you different messages\n",
      "different seeds give you different messages\n"
     ]
    }
   ],
   "source": [
    "e = Enigma(22)\n",
    "\n",
    "e2 = Enigma(44)\n",
    "\n",
    "message = \"Different seeds give you different messages\"\n",
    "print(message)\n",
    "encrypted_message = e.enigma(message)\n",
    "print(encrypted_message)\n",
    "\n",
    "encrypted_message2 = e2.enigma(message)\n",
    "print(encrypted_message2)\n",
    "\n",
    "decrypted_message = e.de_enigma(encrypted_message)\n",
    "print(decrypted_message)\n",
    "\n",
    "decrypted_message2 = e2.de_enigma(encrypted_message2)\n",
    "print(decrypted_message2)"
   ]
  }
 ],
 "metadata": {
  "kernelspec": {
   "display_name": "env",
   "language": "python",
   "name": "python3"
  },
  "language_info": {
   "codemirror_mode": {
    "name": "ipython",
    "version": 3
   },
   "file_extension": ".py",
   "mimetype": "text/x-python",
   "name": "python",
   "nbconvert_exporter": "python",
   "pygments_lexer": "ipython3",
   "version": "3.10.2"
  },
  "orig_nbformat": 4
 },
 "nbformat": 4,
 "nbformat_minor": 2
}
